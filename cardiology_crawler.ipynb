{
 "cells": [
  {
   "cell_type": "code",
   "execution_count": 1,
   "metadata": {},
   "outputs": [],
   "source": [
    "from bs4 import BeautifulSoup\n",
    "import requests\n",
    "from itertools import chain"
   ]
  },
  {
   "cell_type": "code",
   "execution_count": 9,
   "metadata": {},
   "outputs": [],
   "source": [
    "def parse(url):\n",
    "    data = requests.get(url)\n",
    "    domain = 'https://www.hindawi.com'\n",
    "    sp = BeautifulSoup(data.text)\n",
    "    sp1 = sp.select('.middle_content')\n",
    "\n",
    "    s2 = [s.find_all('a') for s in sp1]\n",
    "    s3 = [s.text.split(',') for s in s2[0]]\n",
    "    s4 = list(chain(*s3[:-1]))\n",
    "    l = (len(s4))\n",
    "\n",
    "    sp3 = []\n",
    "    for k in range(l-3):\n",
    "        sp2 = [s.select('a')[k]['href'] for s in sp1]\n",
    "        sp3.append(sp2)\n",
    "\n",
    "    sp4 = []\n",
    "    for i in sp3:\n",
    "        if (len(str(i))-4) == 28:\n",
    "            sp4.append(i)\n",
    "        else:\n",
    "            continue\n",
    "    sp5 = list(chain(*sp4))\n",
    "    for e in sp5:\n",
    "        parse_detail(domain + e)\n",
    "\n",
    "\n",
    "def parse_detail(url):\n",
    "    data = requests.get(url)\n",
    "    d = BeautifulSoup(data.text)\n",
    "    d2 = d.select('.middle_content')\n",
    "    p = [s.select('h2') for s in d2]\n",
    "    for pe in p[0]:\n",
    "        title = pe.text\n",
    "        with open(\"cardiology.txt\", \"a\", encoding='utf8') as f:\n",
    "            f.write(title + '\\n')\n",
    "\n",
    "    d3 = [s.select('p') for s in d2]\n",
    "    d4 = [s.text for s in d3[0]]\n",
    "    cont = ''\n",
    "    for t in d4:\n",
    "        cont += t\n",
    "\n",
    "    with open(\"cardiology.txt\", \"a\", encoding='utf8') as f:\n",
    "        f.write(cont + '\\n')\n",
    "        f.close"
   ]
  },
  {
   "cell_type": "code",
   "execution_count": 12,
   "metadata": {},
   "outputs": [
    {
     "name": "stdout",
     "output_type": "stream",
     "text": [
      "https://www.hindawi.com/journals/cric/contents/1/\n",
      "https://www.hindawi.com/journals/cric/contents/2/\n",
      "https://www.hindawi.com/journals/cric/contents/3/\n",
      "https://www.hindawi.com/journals/cric/contents/4/\n",
      "https://www.hindawi.com/journals/cric/contents/5/\n",
      "https://www.hindawi.com/journals/cric/contents/6/\n",
      "https://www.hindawi.com/journals/cric/contents/7/\n",
      "https://www.hindawi.com/journals/cric/contents/8/\n",
      "https://www.hindawi.com/journals/cric/contents/9/\n",
      "https://www.hindawi.com/journals/cric/contents/10/\n",
      "https://www.hindawi.com/journals/cric/contents/11/\n",
      "https://www.hindawi.com/journals/cric/contents/12/\n",
      "https://www.hindawi.com/journals/cric/contents/13/\n",
      "https://www.hindawi.com/journals/cric/contents/14/\n",
      "https://www.hindawi.com/journals/cric/contents/15/\n",
      "https://www.hindawi.com/journals/cric/contents/16/\n",
      "https://www.hindawi.com/journals/cric/contents/17/\n",
      "https://www.hindawi.com/journals/cric/contents/18/\n",
      "https://www.hindawi.com/journals/cric/contents/19/\n",
      "https://www.hindawi.com/journals/cric/contents/20/\n",
      "https://www.hindawi.com/journals/cric/contents/21/\n",
      "https://www.hindawi.com/journals/cric/contents/22/\n",
      "https://www.hindawi.com/journals/cric/contents/23/\n",
      "https://www.hindawi.com/journals/cric/contents/24/\n",
      "https://www.hindawi.com/journals/cric/contents/25/\n",
      "https://www.hindawi.com/journals/cric/contents/26/\n",
      "https://www.hindawi.com/journals/cric/contents/27/\n",
      "https://www.hindawi.com/journals/cric/contents/28/\n"
     ]
    }
   ],
   "source": [
    "i = 1\n",
    "while(i <= 28):\n",
    "    url = \"https://www.hindawi.com/journals/cric/contents/\" + str(i) + \"/\"\n",
    "    print(url)\n",
    "    parse(url)\n",
    "    i += 1"
   ]
  }
 ],
 "metadata": {
  "kernelspec": {
   "display_name": "Python 3",
   "language": "python",
   "name": "python3"
  },
  "language_info": {
   "codemirror_mode": {
    "name": "ipython",
    "version": 3
   },
   "file_extension": ".py",
   "mimetype": "text/x-python",
   "name": "python",
   "nbconvert_exporter": "python",
   "pygments_lexer": "ipython3",
   "version": "3.7.3"
  }
 },
 "nbformat": 4,
 "nbformat_minor": 2
}
